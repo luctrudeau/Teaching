{
 "cells": [
  {
   "cell_type": "markdown",
   "metadata": {
    "slideshow": {
     "slide_type": "slide"
    }
   },
   "source": [
    "#Introduction au *Streaming* adaptatif \n",
    "###Luc Trudeau"
   ]
  },
  {
   "cell_type": "markdown",
   "metadata": {
    "slideshow": {
     "slide_type": "slide"
    }
   },
   "source": [
    "#Au menu:"
   ]
  },
  {
   "cell_type": "markdown",
   "metadata": {
    "slideshow": {
     "slide_type": "fragment"
    }
   },
   "source": [
    "## Implémentation HTTP Live Streaming\n",
    "\n",
    "https://tools.ietf.org/html/draft-pantos-http-live-streaming-07"
   ]
  },
  {
   "cell_type": "markdown",
   "metadata": {
    "slideshow": {
     "slide_type": "fragment"
    }
   },
   "source": [
    "## Logiciels requis\n",
    "\n",
    "\n",
    "###FFMPEG (Outil de codage)\n",
    "https://ffmpeg.org/ffmpeg.html\n",
    "\n",
    "###GStreamer (Diffusion)\n",
    "http://gstreamer.freedesktop.org/\n",
    "\n",
    "###Séquence Vidéo\n",
    "http://www.caminandes.com/"
   ]
  },
  {
   "cell_type": "markdown",
   "metadata": {
    "slideshow": {
     "slide_type": "slide"
    }
   },
   "source": [
    "# Streaming Adaptatif"
   ]
  },
  {
   "cell_type": "markdown",
   "metadata": {
    "slideshow": {
     "slide_type": "fragment"
    }
   },
   "source": [
    "###Idée de base:\n",
    "![Streaming Adaptatif](https://upload.wikimedia.org/wikipedia/commons/thumb/9/99/Adaptive_streaming_overview_bit_rates_2011_07_28.png/880px-Adaptive_streaming_overview_bit_rates_2011_07_28.png)"
   ]
  },
  {
   "cell_type": "code",
   "execution_count": null,
   "metadata": {
    "collapsed": false,
    "slideshow": {
     "slide_type": "skip"
    }
   },
   "outputs": [],
   "source": [
    "!ffmpeg -i LlamaDrama.mp4 -movflags faststart -b:v 256000 -maxrate 256000 -x264opts \"fps=24:keyint=48:min-keyint=48:no-scenecut\" -hls_list_size 0 -hls_time 4 -hls_base_url http://192.168.3.14:8000/low/ low/LlamaDrama.m3u8"
   ]
  },
  {
   "cell_type": "markdown",
   "metadata": {
    "slideshow": {
     "slide_type": "slide"
    }
   },
   "source": [
    "#Llama Drama Low (1920x1080)\n",
    "![LlamaHigh](LlamaLow.png)\n",
    "### 256 kbits/secondes"
   ]
  },
  {
   "cell_type": "code",
   "execution_count": null,
   "metadata": {
    "collapsed": false,
    "slideshow": {
     "slide_type": "skip"
    }
   },
   "outputs": [],
   "source": [
    "!ffmpeg -i LlamaDrama.mp4 -movflags faststart -b:v 512000 -maxrate 512000 -x264opts \"fps=24:keyint=48:min-keyint=48:no-scenecut\" -hls_list_size 0 -hls_time 4 -hls_base_url http://192.168.3.14:8000/medium/ medium/LlamaDrama.m3u8"
   ]
  },
  {
   "cell_type": "markdown",
   "metadata": {
    "slideshow": {
     "slide_type": "slide"
    }
   },
   "source": [
    "#Llama Drama Medium (1920x1080)\n",
    "![LlamaHigh](LlamaMedium.png)\n",
    "### 512 kbits/secondes"
   ]
  },
  {
   "cell_type": "code",
   "execution_count": null,
   "metadata": {
    "collapsed": false,
    "slideshow": {
     "slide_type": "skip"
    }
   },
   "outputs": [],
   "source": [
    "!ffmpeg -i LlamaDrama.mp4 -movflags faststart -b:v 1024000 -maxrate 1024000 -x264opts \"fps=24:keyint=48:min-keyint=48:no-scenecut\" -hls_list_size 0 -hls_time 4 -hls_base_url http://192.168.3.14:8000/high/ high/LlamaDrama.m3u8"
   ]
  },
  {
   "cell_type": "markdown",
   "metadata": {
    "slideshow": {
     "slide_type": "slide"
    }
   },
   "source": [
    "#Llama Drama High (1920x1080)\n",
    "![LlamaHigh](LlamaHigh.png)\n",
    "### 1024 kbits/secondes"
   ]
  },
  {
   "cell_type": "markdown",
   "metadata": {
    "slideshow": {
     "slide_type": "slide"
    }
   },
   "source": [
    "# Le Manifeste\n",
    "\n",
    "###HLS utilise le format m3u8"
   ]
  },
  {
   "cell_type": "markdown",
   "metadata": {
    "slideshow": {
     "slide_type": "fragment"
    }
   },
   "source": [
    "###/LlamaDrama.m3u8\n",
    "```#EXTM3U\n",
    "#EXT-X-STREAM-INF:PROGRAM-ID=1,BANDWIDTH=256000\n",
    "http://localhost:8000/low/LlamaDrama.m3u8\n",
    "#EXT-X-STREAM-INF:PROGRAM-ID=1,BANDWIDTH=512000\n",
    "http://localhost:8000/medium/LlamaDrama.m3u8\n",
    "#EXT-X-STREAM-INF:PROGRAM-ID=1,BANDWIDTH=1024000\n",
    "http://localhost:8000/high/LlamaDrama.m3u8```"
   ]
  },
  {
   "cell_type": "code",
   "execution_count": 1,
   "metadata": {
    "collapsed": true,
    "slideshow": {
     "slide_type": "skip"
    }
   },
   "outputs": [],
   "source": [
    "from collections import namedtuple\n",
    "from io import BytesIO\n",
    "from requests import get\n",
    "import m3u8\n",
    "from time import time\n",
    "from io import BytesIO\n",
    "from subprocess import call"
   ]
  },
  {
   "cell_type": "code",
   "execution_count": 2,
   "metadata": {
    "collapsed": false,
    "slideshow": {
     "slide_type": "fragment"
    }
   },
   "outputs": [],
   "source": [
    "Stream = namedtuple('Stream',['bandwidth', 'uri'])"
   ]
  },
  {
   "cell_type": "markdown",
   "metadata": {
    "slideshow": {
     "slide_type": "slide"
    }
   },
   "source": [
    "# Playlist\n",
    "Chaque playlist pointe les segments de la séquence"
   ]
  },
  {
   "cell_type": "markdown",
   "metadata": {
    "slideshow": {
     "slide_type": "fragment"
    }
   },
   "source": [
    "##/high/LlamaDrama.m3u8\n",
    "```#EXTM3U\n",
    "#EXT-X-VERSION:3\n",
    "#EXT-X-TARGETDURATION:4\n",
    "#EXT-X-MEDIA-SEQUENCE:0\n",
    "#EXTINF:4.000000,\n",
    "http://localhost:8000/high/LlamaDrama0.ts\n",
    "#EXTINF:4.000000,\n",
    "http://localhost:8000/high/LlamaDrama1.ts\n",
    "#EXTINF:4.000000,\n",
    "http://localhost:8000/high/LlamaDrama2.ts\n",
    "#EXTINF:4.000000,\n",
    "http://localhost:8000/high/LlamaDrama3.ts\n",
    "...\n",
    "#EXTINF:4.000000,\n",
    "http://localhost:8000/high/LlamaDrama21.ts\n",
    "#EXTINF:1.875000,\n",
    "http://localhost:8000/high/LlamaDrama22.ts\n",
    "#EXT-X-ENDLIST```"
   ]
  },
  {
   "cell_type": "markdown",
   "metadata": {
    "slideshow": {
     "slide_type": "slide"
    }
   },
   "source": [
    "# Client HLS\n",
    "\n",
    "La classe HLS permet d'itérer a traver les segments.\n",
    "\n",
    "Le temps est mesuré, lors du téléchargment du segment.\n",
    "\n",
    "En combinant le temps et la taille du fichier, on obtient la vitesse.\n",
    "\n",
    "Le StreamEngine choisit le stream approprié en fonction de la vitesse."
   ]
  },
  {
   "cell_type": "markdown",
   "metadata": {
    "slideshow": {
     "slide_type": "fragment"
    }
   },
   "source": [
    "![UML](http://www.plantuml.com/plantuml/img/NOv12y8m38Nl-HKvReV1mEieGn0KX1ts0qfjmoosPJGH7E9_jsDwq1m2xxrylFGi9iiz1k2RJxF99YBB4gZixErVucQFkxO5iC4mu_4yOjUX5yhcKX2by0bOPhy8dGRKEj53jAvgU7sPKJAPU4YJJ_IvtYna2cHb4nNFHAv6NC6rfib-kagZVdY0df8hBxu1)"
   ]
  },
  {
   "cell_type": "markdown",
   "metadata": {
    "slideshow": {
     "slide_type": "skip"
    }
   },
   "source": [
    "@startuml\n",
    "skinparam style strictuml\n",
    "skinparam dpi 300\n",
    "\n",
    "class HLS << iterable >> {\n",
    "    ByteIO __next__()\n",
    "}\n",
    "\n",
    "class StreamEngine {\n",
    "    Stream selectStream(speed)  \n",
    "}\n",
    "\n",
    "HLS -right-> StreamEngine\n",
    "\n",
    "@enduml"
   ]
  },
  {
   "cell_type": "markdown",
   "metadata": {
    "slideshow": {
     "slide_type": "slide"
    }
   },
   "source": [
    "# Classe HLS\n",
    "\n",
    "Le patron **Iterator** est utilisé pour itérer à travers l'ensemble des segments de la séquence."
   ]
  },
  {
   "cell_type": "code",
   "execution_count": 3,
   "metadata": {
    "collapsed": false,
    "slideshow": {
     "slide_type": "fragment"
    }
   },
   "outputs": [],
   "source": [
    "class HLS:\n",
    "    \n",
    "    speed = 0 # Bits / second\n",
    "    i = 0\n",
    "    \n",
    "    def __init__(self, uri):\n",
    "        self.selector = StreamEngine(uri)\n",
    "    \n",
    "    def __iter__(self):\n",
    "        return self\n",
    "    \n",
    "    def __next__(self):\n",
    "        stream = self.selector.selectStream(self.speed)\n",
    "        \n",
    "        if self.i < len(stream.segments):\n",
    "            startTime = time()\n",
    "            buf = getSegment(stream.segments[self.i])\n",
    "            self.speed = round((buf.getbuffer().nbytes*8) / (time() - startTime))\n",
    "            print('%d bits/s' %self.speed)\n",
    "            self.i += 1\n",
    "            return buf\n",
    "        else:\n",
    "            raise StopIteration"
   ]
  },
  {
   "cell_type": "markdown",
   "metadata": {
    "slideshow": {
     "slide_type": "slide"
    }
   },
   "source": [
    "# StreamEngine\n",
    "Le StreamEngine choisi le prochain segment en fonction de la vitesse de transfert"
   ]
  },
  {
   "cell_type": "code",
   "execution_count": 4,
   "metadata": {
    "collapsed": false,
    "slideshow": {
     "slide_type": "fragment"
    }
   },
   "outputs": [],
   "source": [
    "class StreamEngine:\n",
    "    \n",
    "    currentStream = None\n",
    "    streamM3 = None\n",
    "    streams = None\n",
    "    \n",
    "    def __init__(self, uri):\n",
    "        self.streams = sorted([Stream(playlist.stream_info.bandwidth, playlist.uri) \n",
    "                               for playlist in m3u8.load(uri).playlists])\n",
    "        self.currentStream = self.streams[0]\n",
    "        self.streamM3 = m3u8.load(self.currentStream.uri)\n",
    "    \n",
    "    def selectStream(self, speed):\n",
    "        newStream = self.currentStream\n",
    "        \n",
    "        for stream in self.streams:\n",
    "            if stream.bandwidth < speed:\n",
    "                newStream = stream\n",
    "            else:\n",
    "                break\n",
    "        \n",
    "        if newStream != self.currentStream:\n",
    "            self.currentStream = newStream\n",
    "            self.streamM3 = m3u8.load(newStream.uri)\n",
    "            print('Changing Streams: New BitRate %d' %newStream.bandwidth)\n",
    "        \n",
    "        return self.streamM3"
   ]
  },
  {
   "cell_type": "code",
   "execution_count": 5,
   "metadata": {
    "collapsed": true,
    "slideshow": {
     "slide_type": "slide"
    }
   },
   "outputs": [],
   "source": [
    "def getSegment(segment):\n",
    "    buf = BytesIO()\n",
    "    r = get(segment.uri, stream=True)\n",
    "    for chunk in r.iter_content(chunk_size=2048): \n",
    "        if chunk:\n",
    "            buf.write(chunk)\n",
    "    return buf"
   ]
  },
  {
   "cell_type": "markdown",
   "metadata": {
    "slideshow": {
     "slide_type": "slide"
    }
   },
   "source": [
    "# Exemple réel\n",
    "\n",
    "Le contenu des segments reçu par HLS est \"pipé\" dans GStreamer\n",
    "\n",
    "Même, si GStreamer possède un buffer d'entrée, nous utilisons quand même un buffer interne pour ne pas blocker un téléchargement lorsque le buffer de GStreamer est plein.\n",
    "\n",
    "L'appel de ```player.stdin.write``` étant bloquant, ceci va servir de mécanisme de controlle de flux pour les requêtes HLS."
   ]
  },
  {
   "cell_type": "code",
   "execution_count": null,
   "metadata": {
    "collapsed": false,
    "scrolled": true,
    "slideshow": {
     "slide_type": "fragment"
    }
   },
   "outputs": [],
   "source": [
    "from subprocess import Popen, PIPE, STDOUT\n",
    "\n",
    "hls = HLS('http://192.168.3.14:8000/LlamaDrama.m3u8')\n",
    "player = Popen(\"/usr/local/bin/gst-play-1.0 fd://0\".split(), stdout=PIPE, stdin=PIPE)\n",
    "\n",
    "for segment in hls:\n",
    "    player.stdin.write(segment.getvalue())"
   ]
  }
 ],
 "metadata": {
  "celltoolbar": "Slideshow",
  "kernelspec": {
   "display_name": "Python 3",
   "language": "python",
   "name": "python3"
  },
  "language_info": {
   "codemirror_mode": {
    "name": "ipython",
    "version": 3
   },
   "file_extension": ".py",
   "mimetype": "text/x-python",
   "name": "python",
   "nbconvert_exporter": "python",
   "pygments_lexer": "ipython3",
   "version": "3.4.3"
  }
 },
 "nbformat": 4,
 "nbformat_minor": 0
}
